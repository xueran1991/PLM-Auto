{
 "cells": [
  {
   "cell_type": "markdown",
   "metadata": {},
   "source": [
    "## 1. 提取物料分类信息、小类名称-编码字典"
   ]
  },
  {
   "cell_type": "code",
   "execution_count": 3,
   "metadata": {},
   "outputs": [],
   "source": [
    "# 创建.xlsx文档\n",
    "from openpyxl import Workbook, load_workbook\n",
    "import os\n",
    "import glob\n",
    "import re\n",
    "import numpy as np"
   ]
  },
  {
   "cell_type": "code",
   "execution_count": 4,
   "metadata": {},
   "outputs": [
    {
     "name": "stdout",
     "output_type": "stream",
     "text": [
      "dict_keys(['电气类', '工控系统', '电气安装材料', '传感器', '自控阀门'])\n",
      "{'压力测量', '位置检测', '流量测量', '振动测量', '连续物位测量', '分析仪表', '可燃/有毒检测', '称重装置', '密度检测', '传感器安装附件', '物位开关', '温/湿度测量', '其它类型的传感器', '火花检测', '粉尘检测'}\n",
      "{'雷达物位传感器', '双法兰液位变送器', '其它形式连续物位测量', '磁翻板液位计', '连杆浮球液位传感器', '静压式液位变送器', '导播雷达物位传感器', '超声波物位传感器', '投入式压力变送器', '角度变送器'}\n"
     ]
    }
   ],
   "source": [
    "## 提取分类类别\n",
    "Y201_ruls_path = 'base_template/Y201 物料分类及编码规则 R21.xlsm'\n",
    "Y201_ruls_wb = load_workbook(Y201_ruls_path)\n",
    "Y201_ruls_ws = Y201_ruls_wb['物料分类表 R21']\n",
    "\n",
    "# C: 大类名称 电气……\n",
    "# E：中类名称 传感器……\n",
    "# F: 次中类名称 连续物位……\n",
    "# G：小类名称 雷达……\n",
    "# H：小类代号 A300……\n",
    "C, D, E, F, G, H = Y201_ruls_ws['C:H']\n",
    "primary_class = {'电气':set()}  #大类：中类\n",
    "medium_class = {}             #中类：次中类\n",
    "detailed_class = {}            #次中类：小类\n",
    "class_code = {}\n",
    "\n",
    "for c, e, f, g, h  in zip(C, E, F, G, H):\n",
    "    if c.value == '电气':\n",
    "        primary_class['电气'].add(e.value)\n",
    "        # 存储中类：次中类\n",
    "        try:\n",
    "            medium_class[e.value].add(f.value)\n",
    "        except:\n",
    "            medium_class[e.value] = set()\n",
    "            medium_class[e.value].add(f.value)\n",
    "        # 存储 次中类：小类\n",
    "        try:\n",
    "            detailed_class[f.value].add(g.value)\n",
    "        except:\n",
    "            detailed_class[f.value] = set()\n",
    "            detailed_class[f.value].add(g.value)\n",
    "        # 存储 小类名称：小类编码\n",
    "        class_code[g.value] = h.value\n",
    "        \n",
    "print(medium_class.keys())\n",
    "print(medium_class['传感器'])\n",
    "print(detailed_class['连续物位测量'])"
   ]
  },
  {
   "cell_type": "code",
   "execution_count": 7,
   "metadata": {},
   "outputs": [
    {
     "name": "stdout",
     "output_type": "stream",
     "text": [
      "品牌库异常： 横河电机 1193 出现重复项\n"
     ]
    }
   ],
   "source": [
    "# 提取品牌库信息\n",
    "brands_path = 'base_template/BrandsList.txt' # 最终品牌库的路径\n",
    "brands_file = open(brands_path, 'r')\n",
    "brs = brands_file.readlines()\n",
    "brands = {}\n",
    "\n",
    "for br in brs:\n",
    "    ls = re.split(\"\\s\", br)\n",
    "    if ls[0] not in brands.keys() \\\n",
    "    and ls[1] not in brands.values():\n",
    "        brands[ls[0]] = ls[1]\n",
    "    else:\n",
    "        print('品牌库异常：', ls[0], ls[1], '出现重复项')\n",
    "        "
   ]
  },
  {
   "cell_type": "code",
   "execution_count": 219,
   "metadata": {},
   "outputs": [],
   "source": [
    "def get_translation(trans_path = 'base_template/翻译库.txt'):\n",
    "    ## 提取翻译库\n",
    "    trans_file = open(trans_path, 'r')\n",
    "    trans = trans_file.readlines()\n",
    "    translation = {}\n",
    "    for tran in trans:\n",
    "        tr = re.split(\"\\s\", tran)\n",
    "        if tr[0] != '' :\n",
    "            translation[tr[0]] = tr[1]\n",
    "#             if tr[1] == '':               \n",
    "#                 print(tr[0], ':翻译缺失')\n",
    "    trans_file.close()\n",
    "    return translation"
   ]
  },
  {
   "cell_type": "markdown",
   "metadata": {},
   "source": [
    "## 创建物料文件夹"
   ]
  },
  {
   "cell_type": "code",
   "execution_count": 220,
   "metadata": {},
   "outputs": [],
   "source": [
    "class_job = '传感器'\n",
    "for m_class in medium_class[class_job]:\n",
    "    for d_class in detailed_class[m_class]:\n",
    "        m_class = m_class.replace(\"/\", '')\n",
    "        d_class = d_class.replace(\"/\", '')\n",
    "        path = class_job + '/' + m_class + '/' + d_class\n",
    "        \n",
    "        if not os.path.exists(path):\n",
    "            os.makedirs(path)\n",
    "            print('已创建路径：', path)\n"
   ]
  },
  {
   "cell_type": "markdown",
   "metadata": {},
   "source": [
    "## 提取小类库文件中的物料信息"
   ]
  },
  {
   "cell_type": "code",
   "execution_count": 221,
   "metadata": {},
   "outputs": [],
   "source": [
    "def get_data(file_path):\n",
    "    if file_path[-5:] == '.xlsx':\n",
    "        wb = load_workbook(file_path, 'r')\n",
    "        ws = wb.active\n",
    "        data =  np.array(list(ws.values))\n",
    "        wb.close\n",
    "        return  data\n",
    "    elif file_path[-4:] == '.txt':\n",
    "        txt = open(file_path, 'r')\n",
    "        txt = txt.readlines()\n",
    "        data = []\n",
    "        for row in txt:    \n",
    "            d = row.replace(\"\\n\",'')\n",
    "            data.append(re.split(\"\\t\", d))\n",
    "        return np.array(data)\n",
    "        \n",
    "    else:\n",
    "        raise ValueError"
   ]
  },
  {
   "cell_type": "code",
   "execution_count": 269,
   "metadata": {},
   "outputs": [],
   "source": [
    "wb_path = '雷达物位传感器.xlsx'\n",
    "data = get_data(wb_path)\n",
    "\n",
    "txt_path = 'txt_read_test.txt'\n",
    "data2 = get_data(txt_path)\n"
   ]
  },
  {
   "cell_type": "markdown",
   "metadata": {},
   "source": [
    "## 生成PLM模板文件"
   ]
  },
  {
   "cell_type": "code",
   "execution_count": 271,
   "metadata": {},
   "outputs": [],
   "source": [
    "## 生成 02-必填属性\n",
    "job = \"雷达物位传感器\"\n",
    "t02_header = '#===============电气与自动化================\\n\\n'\n",
    "t02_header += ('#--' + job + '--' + '\\n')\n",
    "\n",
    "\n",
    "# 生成翻译\n",
    "trans_path = 'base_template/翻译库.txt'\n",
    "translation = get_translation(trans_path)\n",
    "translation_file = open(trans_path, 'a+')\n",
    "translation_file.write('\\n')\n",
    "data_header = data[1]\n",
    "data_header_checker = data[0]\n",
    "job_code = class_code[job]\n",
    "t02_content = job_code + '=mySupplierModelSpec,my' + job_code + '_Brand,my' + job_code + '_ProductLine'\n",
    "\n",
    "# 遍历所有属性，添加必要属性\n",
    "for header, checker in zip(data_header[5:], data_header_checker[5:]):\n",
    "    if checker == 1:\n",
    "        # 添加翻译\n",
    "        if header in translation.keys():\n",
    "            if translation[header] != '':\n",
    "                trans = translation[header]\n",
    "            else:\n",
    "                trans = '****'+header\n",
    "                print(header, ':翻译缺失')\n",
    "        else:\n",
    "            translation_file.write(header+'\\n')\n",
    "            trans = '****'+header\n",
    "            print(header, ':翻译缺失')\n",
    "        # 添加 my job code _ 翻译 \n",
    "        t02_content += ',my' + job_code + '_'+trans\n",
    "translation_file.close()\n",
    "# 完成02模板\n",
    "t02 = t02_header + t02_content\n",
    "\n",
    "write_path = '传感器/连续物位测量/雷达物位传感器/'\n",
    "\n",
    "t02_file = open(write_path+'02-必填属性-'+job+'.txt', 'w')\n",
    "t02_file.write(t02)\n",
    "t02_file.close()\n"
   ]
  },
  {
   "cell_type": "code",
   "execution_count": 328,
   "metadata": {},
   "outputs": [],
   "source": [
    "## 生成03-属性组合\n",
    "t03_header = \"\"\"#====各分类组合属性集===========\\n \\\n",
    "            #====分类码.组合属性代码+组合顺序=子属性名\\n \\\n",
    "            #====物料简称:cassShortDescription\\n \\\n",
    "            #====描述:myDesc\\n\\n\"\"\"\n",
    "t03_header += ('#--' + job + '--' + '\\n\\n')\n",
    "\n",
    "t03_content1 = '#l表示：PLM物料名称:ERP物料名称\\n' + job_code \\\n",
    "                + '.l0={cassShortDescription}\\n\\n'\n",
    "\n",
    "t03_content2 = '#d：ERP物料名称:物料简称\\n' + job_code \\\n",
    "                + '.d0={cassShortDescription}\\n\\n'\n",
    "\n",
    "t03_content3 = \"#s：ERP型号规格:供应商型号规格\\n\" + job_code \\\n",
    "                + \".s0={mySupplierModelSpec}\\n\\n\"\n",
    "t03_content = t03_header + t03_content1 + t03_content2 + t03_content3\n",
    "\n",
    "t03_file = open(write_path+'03-组合属性-'+job+'.txt', 'w')\n",
    "t03_file.write(t02)\n",
    "t03_file.close()\n"
   ]
  },
  {
   "cell_type": "code",
   "execution_count": 329,
   "metadata": {},
   "outputs": [
    {
     "name": "stdout",
     "output_type": "stream",
     "text": [
      "#====各分类组合属性集===========\n",
      "             #====分类码.组合属性代码+组合顺序=子属性名\n",
      "             #====物料简称:cassShortDescription\n",
      "             #====描述:myDesc\n",
      "\n",
      "#--雷达物位传感器--\n",
      "\n",
      "#l表示：PLM物料名称:ERP物料名称\n",
      "A300.l0={cassShortDescription}\n",
      "\n",
      "#d：ERP物料名称:物料简称\n",
      "A300.d0={cassShortDescription}\n",
      "\n",
      "#s：ERP型号规格:供应商型号规格\n",
      "A300.s0={mySupplierModelSpec}\n",
      "\n",
      "\n"
     ]
    }
   ],
   "source": [
    "print(t03_content)"
   ]
  },
  {
   "cell_type": "markdown",
   "metadata": {},
   "source": [
    "## pipline"
   ]
  }
 ],
 "metadata": {
  "kernelspec": {
   "display_name": "Python 3",
   "language": "python",
   "name": "python3"
  },
  "language_info": {
   "codemirror_mode": {
    "name": "ipython",
    "version": 3
   },
   "file_extension": ".py",
   "mimetype": "text/x-python",
   "name": "python",
   "nbconvert_exporter": "python",
   "pygments_lexer": "ipython3",
   "version": "3.6.8"
  }
 },
 "nbformat": 4,
 "nbformat_minor": 2
}

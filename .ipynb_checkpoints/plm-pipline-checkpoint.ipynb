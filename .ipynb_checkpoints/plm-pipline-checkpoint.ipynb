{
 "cells": [
  {
   "cell_type": "code",
   "execution_count": 142,
   "metadata": {},
   "outputs": [],
   "source": [
    "%reload_ext autoreload\n",
    "%autoreload 2\n",
    "import glob\n",
    "from PLM_Auto import PLM_auto"
   ]
  },
  {
   "cell_type": "code",
   "execution_count": 143,
   "metadata": {},
   "outputs": [],
   "source": [
    "plm = PLM_auto('base_template')\n",
    "\n",
    "plm.get_class()\n",
    "plm.get_brands()\n",
    "plm.create_class_path()\n",
    "\n",
    "# print(plm.brands)\n",
    "# print(plm.class_code)"
   ]
  },
  {
   "cell_type": "code",
   "execution_count": 144,
   "metadata": {},
   "outputs": [
    {
     "name": "stdout",
     "output_type": "stream",
     "text": [
      "传感器\\连续物位测量\\导播雷达物位传感器\\\n"
     ]
    }
   ],
   "source": [
    "src = glob.glob('传感器/*/*.txt')\n",
    "plm.get_data(src[0])\n",
    "plm.refresh_translation()\n",
    "print(plm.write_path)\n",
    "\n",
    "plm.create_t02()\n",
    "plm.create_t03()"
   ]
  },
  {
   "cell_type": "code",
   "execution_count": 148,
   "metadata": {},
   "outputs": [],
   "source": [
    "plm.create_t01()"
   ]
  },
  {
   "cell_type": "code",
   "execution_count": null,
   "metadata": {},
   "outputs": [],
   "source": [
    "plm.create_t04()"
   ]
  }
 ],
 "metadata": {
  "kernelspec": {
   "display_name": "Python 3",
   "language": "python",
   "name": "python3"
  },
  "language_info": {
   "codemirror_mode": {
    "name": "ipython",
    "version": 3
   },
   "file_extension": ".py",
   "mimetype": "text/x-python",
   "name": "python",
   "nbconvert_exporter": "python",
   "pygments_lexer": "ipython3",
   "version": "3.7.1"
  }
 },
 "nbformat": 4,
 "nbformat_minor": 2
}

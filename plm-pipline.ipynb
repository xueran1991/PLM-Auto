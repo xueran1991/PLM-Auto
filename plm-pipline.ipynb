{
 "cells": [
  {
   "cell_type": "code",
   "execution_count": 1,
   "metadata": {},
   "outputs": [
    {
     "name": "stdout",
     "output_type": "stream",
     "text": [
      "品牌库异常： 上海泗博 1531\n",
      " 出现重复项\n",
      "品牌库异常： 图尔克 1532\n",
      " 出现重复项\n",
      "品牌库异常： 万可 1533\n",
      " 出现重复项\n"
     ]
    }
   ],
   "source": [
    "%reload_ext autoreload\n",
    "%autoreload 2\n",
    "import glob\n",
    "from PLM_Auto import PLM_auto\n",
    "\n",
    "plm = PLM_auto('base_template/')\n",
    "plm.get_class('base_template/Y201 物料分类及编码规则20190529.xlsm')\n",
    "plm.get_brands('品牌库.txt')\n",
    "# plm.get_material('材质库.txt') # 不关联材质库\n",
    "# plm.create_class_path(class_job='传感器')"
   ]
  },
  {
   "cell_type": "markdown",
   "metadata": {},
   "source": [
    "## 仪表类任务"
   ]
  },
  {
   "cell_type": "code",
   "execution_count": 11,
   "metadata": {},
   "outputs": [
    {
     "name": "stdout",
     "output_type": "stream",
     "text": [
      "job = 任务表/传感器\\传感器安装附件\\安装法兰.xlsx\n",
      "job = 任务表/传感器\\传感器安装附件\\焊接底座.xlsx\n",
      "job = 任务表/传感器\\位置检测\\-位置ASWZ-01 V1.3-电感式接近开关.xlsx\n",
      "job = 任务表/传感器\\位置检测\\-位置ASWZ-02 V1.1-电容式接近开关.xlsx\n",
      "job = 任务表/传感器\\位置检测\\-位置ASWZ-04 V1.1-行程开关.xlsx\n",
      "job = 任务表/传感器\\分析仪表\\ph.xlsx\n",
      "job = 任务表/传感器\\分析仪表\\在线分析仪.xlsx\n",
      "job = 任务表/传感器\\分析仪表\\电导率.xlsx\n",
      "job = 任务表/传感器\\压力测量\\-压力ASPT-01 V1.1-绝压.xlsx\n",
      "job = 任务表/传感器\\压力测量\\-压力ASPT-02 V1.1-表压.xlsx\n",
      "job = 任务表/传感器\\压力测量\\-压力ASPT-05 V1.1-差压汇总.xlsx\n",
      "job = 任务表/传感器\\压力测量\\-压力开关ASPA-03 V1.1-电接点压力.xlsx\n",
      "job = 任务表/传感器\\压力测量\\压力开关.xlsx\n",
      "job = 任务表/传感器\\压力测量\\压差开关.xlsx\n",
      "job = 任务表/传感器\\可燃有毒检测\\-可燃气体ASGT-01 V1.1.xlsx\n",
      "job = 任务表/传感器\\可燃有毒检测\\-有毒气体ASGT-02 V1.1.xlsx\n",
      "job = 任务表/传感器\\振动测量\\-振动ASZD-01 V1.1.xlsx\n",
      "job = 任务表/传感器\\温湿度测量\\-湿度ASHT-01 V1.1.xlsx\n",
      "job = 任务表/传感器\\温湿度测量\\一体化温度变送器.xlsx\n",
      "job = 任务表/传感器\\温湿度测量\\热电阻.xlsx\n",
      "job = 任务表/传感器\\物位开关\\-物位开关ASLA-03 V1.1-浮球.xlsx\n",
      "job = 任务表/传感器\\物位开关\\阻旋.xlsx\n",
      "job = 任务表/传感器\\物位开关\\音叉.xlsx\n",
      "job = 任务表/传感器\\称重装置\\称重仪表.xlsx\n",
      "job = 任务表/传感器\\称重装置\\称重传感器.xlsx\n",
      "job = 任务表/传感器\\称重装置\\称重装置辅件.xlsx\n",
      "job = 任务表/传感器\\连续物位测量\\导波雷达 V1.1.xlsx\n",
      "job = 任务表/传感器\\连续物位测量\\差压液位.xlsx\n",
      "job = 任务表/传感器\\连续物位测量\\投入式压力液位V1.2.xlsx\n",
      "job = 任务表/传感器\\连续物位测量\\磁翻板 V1.1.xlsx\n",
      "job = 任务表/传感器\\连续物位测量\\角度变送器.xlsx\n",
      "job = 任务表/传感器\\连续物位测量\\超声波 V1.1.xlsx\n",
      "job = 任务表/传感器\\连续物位测量\\连杆浮球液位计.xlsx\n",
      "job = 任务表/传感器\\连续物位测量\\雷达 V1.1.xlsx\n",
      "job = 任务表/传感器\\连续物位测量\\静压液位V1.1.xlsx\n"
     ]
    }
   ],
   "source": [
    "# 执行任务\n",
    "src = glob.glob('任务表/传感器/*/*.xlsx')\n",
    "for job in src:\n",
    "    print('job =',job)\n",
    "    plm.get_data(job)\n",
    "    plm.refresh_translation('base_template/翻译库.txt')\n",
    "    plm.create_t02()    \n",
    "    plm.create_t03()\n",
    "    plm.create_t01()\n",
    "    plm.create_t04()"
   ]
  },
  {
   "cell_type": "code",
   "execution_count": 9,
   "metadata": {},
   "outputs": [
    {
     "name": "stdout",
     "output_type": "stream",
     "text": [
      "0.8\n"
     ]
    }
   ],
   "source": [
    "# 已完成\n",
    "done = glob.glob('任务表/传感器/*/*/*02*.txt')\n",
    "print(len(done)/50)"
   ]
  },
  {
   "cell_type": "markdown",
   "metadata": {},
   "source": [
    "## 电气类任务"
   ]
  },
  {
   "cell_type": "code",
   "execution_count": 5,
   "metadata": {},
   "outputs": [
    {
     "name": "stdout",
     "output_type": "stream",
     "text": [
      "品牌库异常： 上海泗博 1531\n",
      " 出现重复项\n",
      "品牌库异常： 图尔克 1532\n",
      " 出现重复项\n",
      "品牌库异常： 万可 1533\n",
      " 出现重复项\n",
      "Good job = 任务表/电气类\\电气-电气控制箱柜\\电气-电气控制箱柜-MCC柜.xlsx\n",
      "Good job = 任务表/电气类\\电气-电气控制箱柜\\电气-电气控制箱柜-现场控制箱.xlsx\n",
      "Good job = 任务表/电气类\\工控系统-PLCDCS系统\\工控系统-PLCDCS系统-CPU.xlsx\n",
      "Good job = 任务表/电气类\\工控系统-PLCDCS系统\\工控系统-PLCDCS系统-CPU存储卡及电池.xlsx\n",
      "Good job = 任务表/电气类\\工控系统-PLCDCS系统\\工控系统-PLCDCS系统-IO模块.xlsx\n",
      "Good job = 任务表/电气类\\工控系统-PLCDCS系统\\工控系统-PLCDCS系统-PLC其他.xlsx\n",
      "Good job = 任务表/电气类\\工控系统-PLCDCS系统\\工控系统-PLCDCS系统-交换机.xlsx\n",
      "Good job = 任务表/电气类\\工控系统-PLCDCS系统\\工控系统-PLCDCS系统-前连接器.xlsx\n",
      "Good job = 任务表/电气类\\工控系统-PLCDCS系统\\工控系统-PLCDCS系统-功能模块.xlsx\n",
      "Good job = 任务表/电气类\\工控系统-PLCDCS系统\\工控系统-PLCDCS系统-导轨.xlsx\n",
      "Good job = 任务表/电气类\\工控系统-PLCDCS系统\\工控系统-PLCDCS系统-接口模块.xlsx\n",
      "Good job = 任务表/电气类\\工控系统-PLCDCS系统\\工控系统-PLCDCS系统-控制软件及授权.xlsx\n",
      "Good job = 任务表/电气类\\工控系统-PLCDCS系统\\工控系统-PLCDCS系统-电源.xlsx\n",
      "Good job = 任务表/电气类\\工控系统-PLCDCS系统\\工控系统-PLCDCS系统-网关.xlsx\n",
      "Good job = 任务表/电气类\\工控系统-PLCDCS系统\\工控系统-PLCDCS系统-网络接头.xlsx\n",
      "Good job = 任务表/电气类\\工控系统-PLCDCS系统\\工控系统-PLCDCS系统-触摸屏.xlsx\n",
      "Good job = 任务表/电气类\\工控系统-PLCDCS系统\\工控系统-PLCDCS系统-通讯模块.xlsx\n",
      "Good job = 任务表/电气类\\工控系统-PLCDCS系统\\工控系统-PLCDCS系统-通讯电缆.xlsx\n",
      "Good job = 任务表/电气类\\工控系统-UPS电源\\工控系统-UPS电源-UPS工业电源.xlsx\n",
      "Good job = 任务表/电气类\\工控系统-工控控制箱柜\\工控系统-工控控制箱柜-小型工控箱.xlsx\n",
      "Good job = 任务表/电气类\\工控系统-工控控制箱柜\\工控系统-工控控制箱柜-工控机柜.xlsx\n",
      "Good job = 任务表/电气类\\工控系统-弱电网络系统\\工控系统-弱电网络系统-光纤交换机.xlsx\n",
      "Good job = 任务表/电气类\\工控系统-弱电网络系统\\工控系统-弱电网络系统-光纤收发器.xlsx\n",
      "Good job = 任务表/电气类\\工控系统-弱电网络系统\\工控系统-弱电网络系统-光缆.xlsx\n",
      "Good job = 任务表/电气类\\工控系统-操作台\\工控系统-操作台-标准操作台.xlsx\n",
      "Good job = 任务表/电气类\\工控系统-显示器\\工控系统-显示器-液晶显示器.xlsx\n",
      "Good job = 任务表/电气类\\工控系统-计算机主机\\工控系统-计算机主机-商务计算机.xlsx\n",
      "Good job = 任务表/电气类\\工控系统-计算机主机\\工控系统-计算机主机-工业计算机.xlsx\n",
      "Good job = 任务表/电气类\\工控系统-计算机软件\\工控系统-计算机软件-操作系统.xlsx\n",
      "Good job = 任务表/电气类\\工控系统-计算机配件\\工控系统-计算机配件-内存.xlsx\n",
      "Good job = 任务表/电气类\\工控系统-计算机配件\\工控系统-计算机配件-显卡.xlsx\n",
      "Good job = 任务表/电气类\\工控系统-计算机配件\\工控系统-计算机配件-硬盘.xlsx\n",
      "Good job = 任务表/电气类\\工控系统-计算机配件\\工控系统-计算机配件-网卡.xlsx\n",
      "Good job = 任务表/电气类\\工控系统-计算机配件\\工控系统-计算机配件-连接线.xlsx\n",
      "Good job = 任务表/电气类\\工控系统-计算机配件\\工控系统-计算机配件-键盘.xlsx\n",
      "Good job = 任务表/电气类\\工控系统-计算机配件\\工控系统-计算机配件-鼠标.xlsx\n",
      "Good job = 任务表/电气类\\工控系统-音箱\\工控系统-打印机-A3打印机.xlsx\n",
      "Good job = 任务表/电气类\\工控系统-音箱\\工控系统-音箱-音箱.xlsx\n",
      "Good job = 任务表/电气类\\电气-中间继电器类\\电气-中间继电器类-中间继电器底座.xlsx\n",
      "Good job = 任务表/电气类\\电气-中间继电器类\\电气-中间继电器类-中间继电器类.xlsx\n",
      "Good job = 任务表/电气类\\电气-中间继电器类\\电气-中间继电器类-延时继电器.xlsx\n",
      "Good job = 任务表/电气类\\电气-中间继电器类\\电气-中间继电器类-控制型继电器.xlsx\n",
      "Good job = 任务表/电气类\\电气-中间继电器类\\电气-中间继电器类-端子型中间继电器.xlsx\n",
      "Good job = 任务表/电气类\\电气-交流电流互感器\\电气-互感器类-交流电流互感器.xlsx\n",
      "Good job = 任务表/电气类\\电气-交流电流互感器\\电气-互感器类-交流电流变送器.xlsx\n",
      "Good job = 任务表/电气类\\电气-保护继电器类\\电气-保护继电器类-PTC保护继电器.xlsx\n",
      "Good job = 任务表/电气类\\电气-保护继电器类\\电气-保护继电器类-其它保护继电器.xlsx\n",
      "Good job = 任务表/电气类\\电气-保护继电器类\\电气-保护继电器类-相序保护继电器.xlsx\n",
      "Good job = 任务表/电气类\\电气-其它低压电气类\\电气-其它低压电气类-其它低压电气类.xlsx\n",
      "Good job = 任务表/电气类\\电气-变频器类\\电气-变频器类-低压变频器.xlsx\n",
      "Good job = 任务表/电气类\\电气-变频器类\\电气-变频器类-变频器附件.xlsx\n",
      "Good job = 任务表/电气类\\电气-按钮指示灯类\\电气-按钮指示灯类-报警.xlsx\n",
      "Good job = 任务表/电气类\\电气-按钮指示灯类\\电气-按钮指示灯类-指示灯.xlsx\n",
      "Good job = 任务表/电气类\\电气-按钮指示灯类\\电气-按钮指示灯类-按钮.xlsx\n",
      "Good job = 任务表/电气类\\电气-按钮指示灯类\\电气-按钮指示灯类-按钮底座.xlsx\n",
      "Good job = 任务表/电气类\\电气-按钮指示灯类\\电气-按钮指示灯类-按钮盒.xlsx\n",
      "Good job = 任务表/电气类\\电气-按钮指示灯类\\电气-按钮指示灯类-旋钮.xlsx\n",
      "Good job = 任务表/电气类\\电气-接线端子类\\电气-接线端子类-其它端子.xlsx\n",
      "Good job = 任务表/电气类\\电气-接线端子类\\电气-接线端子类-弹簧端子.xlsx\n",
      "Good job = 任务表/电气类\\电气-接线端子类\\电气-接线端子类-插拔端子.xlsx\n",
      "Good job = 任务表/电气类\\电气-接线端子类\\电气-接线端子类-螺钉端子.xlsx\n",
      "Good job = 任务表/电气类\\电气-接触器类\\电气-接触器类-交流接触器.xlsx\n",
      "Good job = 任务表/电气类\\电气-接触器类\\电气-接触器类-接触器附件.xlsx\n",
      "Good job = 任务表/电气类\\电气-接触器类\\电气-接触器类-直流接触器.xlsx\n",
      "Good job = 任务表/电气类\\电气-热继类\\电气-热继类-热继电器.xlsx\n",
      "Good job = 任务表/电气类\\电气-热继类\\电气-热继类-热继电器附件.xlsx\n",
      "Good job = 任务表/电气类\\电气-电动机保护器类\\电气-电动机保护器类-低压电动机保护器.xlsx\n",
      "Good job = 任务表/电气类\\电气-电量仪表类\\电气-电量仪表类-多功能表(1).xlsx\n",
      "Good job = 任务表/电气类\\电气-电量仪表类\\电气-电量仪表类-电压表.xlsx\n",
      "Good job = 任务表/电气类\\电气-电量仪表类\\电气-电量仪表类-电流表.xlsx\n",
      "Good job = 任务表/电气类\\电气-电量仪表类\\电气-电量仪表类-电能表.xlsx\n",
      "Good job = 任务表/电气类\\电气-电量仪表类\\电气-电量仪表类-频率表.xlsx\n",
      "Good job = 任务表/电气类\\电气-软启动类\\电气-软启动类-低压软启动器.xlsx\n"
     ]
    }
   ],
   "source": [
    "# 执行任务\n",
    "src = glob.glob('任务表/电气类/*/*.xlsx')\n",
    "plm = PLM_auto('base_template/')\n",
    "plm.get_class('base_template/Y201 物料分类及编码规则20190529.xlsm')\n",
    "plm.get_brands('品牌库.txt')\n",
    "\n",
    "for job in src:\n",
    "    \n",
    "    try:\n",
    "#     if True:\n",
    "        plm.get_data(job)\n",
    "        plm.refresh_translation('任务表/电气类/翻译.txt')\n",
    "        plm.create_t02()    \n",
    "        plm.create_t03()\n",
    "        plm.create_t01()\n",
    "        plm.create_t04()\n",
    "        print('Good job =', job)\n",
    "    except:\n",
    "        print('Bad job : ', job)"
   ]
  },
  {
   "cell_type": "code",
   "execution_count": 24,
   "metadata": {},
   "outputs": [],
   "source": [
    "# 合并电气类翻译\n",
    "import re\n",
    "srcs = glob.glob('Y:/03 物料数据整理/电气类/*/*翻译*.txt')\n",
    "trans_all = {}\n",
    "for src in srcs:\n",
    "    file = open(src, 'r')\n",
    "    trans = file.readlines()\n",
    "    for tran in trans:\n",
    "         if tran[0] not in ['', None] :\n",
    "            tr = re.split(\"\\s\", tran)\n",
    "            trans_all[tr[0]] = tr[1]\n",
    "new_trans_file = open('Y:/03 物料数据整理/电气类/翻译.txt', 'a+')\n",
    "for k, v in trans_all.items():\n",
    "    new_trans_file.write(k+'\\t'+v+'\\n')\n",
    "\n",
    "new_trans_file.close()"
   ]
  },
  {
   "cell_type": "code",
   "execution_count": null,
   "metadata": {},
   "outputs": [],
   "source": []
  }
 ],
 "metadata": {
  "kernelspec": {
   "display_name": "Python 3",
   "language": "python",
   "name": "python3"
  },
  "language_info": {
   "codemirror_mode": {
    "name": "ipython",
    "version": 3
   },
   "file_extension": ".py",
   "mimetype": "text/x-python",
   "name": "python",
   "nbconvert_exporter": "python",
   "pygments_lexer": "ipython3",
   "version": "3.6.8"
  }
 },
 "nbformat": 4,
 "nbformat_minor": 2
}

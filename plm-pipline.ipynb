{
 "cells": [
  {
   "cell_type": "code",
   "execution_count": 13,
   "metadata": {},
   "outputs": [],
   "source": [
    "%reload_ext autoreload\n",
    "%autoreload 2\n",
    "import glob\n",
    "from PLM_Auto import PLM_auto\n",
    "\n",
    "plm = PLM_auto('base_template/')\n",
    "# plm.get_class(class_job='传感器')\n",
    "plm.get_brands('品牌库.txt')\n",
    "# plm.create_class_path()"
   ]
  },
  {
   "cell_type": "code",
   "execution_count": 14,
   "metadata": {},
   "outputs": [],
   "source": [
    "# 执行任务\n",
    "src = glob.glob('传感器/*/*.txt')\n",
    "for job in src:\n",
    "    print('job =',job)\n",
    "    plm.get_data(job)\n",
    "    plm.refresh_translation()\n",
    "    plm.create_t02()    \n",
    "    plm.create_t03()\n",
    "    plm.create_t01()\n",
    "    plm.create_t04()"
   ]
  },
  {
   "cell_type": "code",
   "execution_count": 15,
   "metadata": {},
   "outputs": [
    {
     "data": {
      "text/plain": [
       "['传感器\\\\连续物位测量\\\\done\\\\双法兰液位变送器.txt',\n",
       " '传感器\\\\连续物位测量\\\\done\\\\导播雷达物位传感器.txt',\n",
       " '传感器\\\\连续物位测量\\\\done\\\\投入式压力变送器.txt',\n",
       " '传感器\\\\连续物位测量\\\\done\\\\磁翻板液位计.txt',\n",
       " '传感器\\\\连续物位测量\\\\done\\\\连杆浮球液位传感器.txt',\n",
       " '传感器\\\\连续物位测量\\\\done\\\\雷达物位传感器.txt',\n",
       " '传感器\\\\连续物位测量\\\\done\\\\静压式液位变送器.txt']"
      ]
     },
     "execution_count": 15,
     "metadata": {},
     "output_type": "execute_result"
    }
   ],
   "source": [
    "# 已完成\n",
    "done = glob.glob('传感器/*/done/*.txt')\n",
    "done"
   ]
  },
  {
   "cell_type": "code",
   "execution_count": null,
   "metadata": {},
   "outputs": [],
   "source": []
  }
 ],
 "metadata": {
  "kernelspec": {
   "display_name": "Python 3",
   "language": "python",
   "name": "python3"
  },
  "language_info": {
   "codemirror_mode": {
    "name": "ipython",
    "version": 3
   },
   "file_extension": ".py",
   "mimetype": "text/x-python",
   "name": "python",
   "nbconvert_exporter": "python",
   "pygments_lexer": "ipython3",
   "version": "3.6.8"
  }
 },
 "nbformat": 4,
 "nbformat_minor": 2
}

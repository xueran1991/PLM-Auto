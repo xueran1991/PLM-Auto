{
 "cells": [
  {
   "cell_type": "code",
   "execution_count": 23,
   "metadata": {},
   "outputs": [],
   "source": [
    "%reload_ext autoreload\n",
    "%autoreload 2\n",
    "import glob\n",
    "from PLM_Auto import PLM_auto\n",
    "\n",
    "plm = PLM_auto('base_template')\n",
    "plm.get_class()\n",
    "plm.get_brands()\n",
    "plm.create_class_path()"
   ]
  },
  {
   "cell_type": "code",
   "execution_count": 25,
   "metadata": {},
   "outputs": [],
   "source": [
    "src = glob.glob('传感器/*/*.txt')\n",
    "for job in src:\n",
    "    plm.get_data(job)\n",
    "    plm.refresh_translation()\n",
    "    plm.create_t02()\n",
    "    plm.create_t03()\n",
    "    plm.create_t01()\n",
    "    plm.create_t04()"
   ]
  }
 ],
 "metadata": {
  "kernelspec": {
   "display_name": "Python 3",
   "language": "python",
   "name": "python3"
  },
  "language_info": {
   "codemirror_mode": {
    "name": "ipython",
    "version": 3
   },
   "file_extension": ".py",
   "mimetype": "text/x-python",
   "name": "python",
   "nbconvert_exporter": "python",
   "pygments_lexer": "ipython3",
   "version": "3.6.8"
  }
 },
 "nbformat": 4,
 "nbformat_minor": 2
}

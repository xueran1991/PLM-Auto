{
 "cells": [
  {
   "cell_type": "code",
   "execution_count": null,
   "metadata": {},
   "outputs": [],
   "source": [
    "import openpyxl\n",
    "from openpyxl.styles import Font \n",
    "from openpyxl.styles import Color, PatternFill, Font, Border\n",
    "\n",
    "wb = openpyxl.Workbook()\n",
    "sheet = wb.active\n",
    "\n",
    "save_path = \"D:/Users/MY/Desktop/\"\n",
    "\n",
    "# writing to the specified cell \n",
    "sheet.cell(row = 1, column = 1).value = ' hello '\n",
    "  \n",
    "sheet.cell(row = 2, column = 2).value = ' everyone '\n",
    "\n",
    "  \n",
    "# set the height of the row \n",
    "for i in range(1,100):\n",
    "    sheet.row_dimensions[i].height = 70\n",
    "\n",
    "# set the width of the column\n",
    "sheet.column_dimensions['B'].width = 20\n",
    "sheet.column_dimensions['B'].font = Font(size = 24, name = 'Times New Roman') \n",
    "\n",
    "fill = PatternFill(start_color='FF92D050',\n",
    "                   end_color='FF92D050',\n",
    "                   fill_type='solid')\n",
    "sheet.column_dimensions['C'].fill = fill\n",
    "  \n",
    "\n",
    "# save the file \n",
    "wb.save(save_path + 'dimension.xlsx') \n",
    "wb.close()"
   ]
  },
  {
   "cell_type": "code",
   "execution_count": 9,
   "metadata": {},
   "outputs": [
    {
     "data": {
      "text/plain": [
       "'ABCDEFGHIJKLMNOPQRSTUVWXYZ'"
      ]
     },
     "execution_count": 9,
     "metadata": {},
     "output_type": "execute_result"
    }
   ],
   "source": [
    "from string import ascii_uppercase\n",
    "ascii_uppercase"
   ]
  },
  {
   "cell_type": "code",
   "execution_count": 9,
   "metadata": {},
   "outputs": [],
   "source": [
    "f = open('aa.txt', 'a+')\n",
    "f.readlines()\n",
    "f.close()"
   ]
  },
  {
   "cell_type": "code",
   "execution_count": 11,
   "metadata": {},
   "outputs": [
    {
     "data": {
      "text/plain": [
       "True"
      ]
     },
     "execution_count": 11,
     "metadata": {},
     "output_type": "execute_result"
    }
   ],
   "source": [
    "f.closed"
   ]
  },
  {
   "cell_type": "code",
   "execution_count": null,
   "metadata": {},
   "outputs": [],
   "source": []
  },
  {
   "cell_type": "code",
   "execution_count": 32,
   "metadata": {},
   "outputs": [
    {
     "data": {
      "text/plain": [
       "[]"
      ]
     },
     "execution_count": 32,
     "metadata": {},
     "output_type": "execute_result"
    }
   ],
   "source": [
    "src"
   ]
  }
 ],
 "metadata": {
  "kernelspec": {
   "display_name": "Python 3",
   "language": "python",
   "name": "python3"
  },
  "language_info": {
   "codemirror_mode": {
    "name": "ipython",
    "version": 3
   },
   "file_extension": ".py",
   "mimetype": "text/x-python",
   "name": "python",
   "nbconvert_exporter": "python",
   "pygments_lexer": "ipython3",
   "version": "3.6.8"
  }
 },
 "nbformat": 4,
 "nbformat_minor": 2
}

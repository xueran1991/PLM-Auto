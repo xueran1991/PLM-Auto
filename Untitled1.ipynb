{
 "cells": [
  {
   "cell_type": "markdown",
   "metadata": {},
   "source": [
    "## 1. 提取物料分类信息、小类名称-编码字典"
   ]
  },
  {
   "cell_type": "code",
   "execution_count": 45,
   "metadata": {},
   "outputs": [],
   "source": [
    "# 创建.xlsx文档\n",
    "from openpyxl import Workbook, load_workbook\n",
    "import os\n",
    "import glob\n"
   ]
  },
  {
   "cell_type": "code",
   "execution_count": 67,
   "metadata": {},
   "outputs": [
    {
     "name": "stdout",
     "output_type": "stream",
     "text": [
      "dict_keys(['电\\n气\\n类', None, '工控系统', '电气安装材料', '传感器', '自控阀门'])\n",
      "{'其它形式连续物位测量', '静压式液位变送器', '导播雷达物位传感器', '双法兰液位变送器', '投入式压力变送器', '超声波物位传感器', '连杆浮球液位传感器', '角度变送器', '磁翻板液位计'}\n"
     ]
    }
   ],
   "source": [
    "## 提取分类类别\n",
    "Y201_ruls_path = 'base_template/Y201 物料分类及编码规则 R21.xlsm'\n",
    "Y201_ruls_wb = load_workbook(Y201_ruls_path)\n",
    "Y201_ruls_ws = Y201_ruls_wb['物料分类表 R21']\n",
    "\n",
    "# C: 大类名称 电气……\n",
    "# E：中类名称 传感器……\n",
    "# F: 次中类名称 连续物位……\n",
    "# G：小类名称 雷达……\n",
    "# H：小类代号 A300……\n",
    "C, D, E, F, G, H = Y201_ruls_ws['C:H']\n",
    "class1 = {'电气':set()}  #大类：中类\n",
    "class2 = {}             #中类：次中类\n",
    "class3 = {}            #次中类：小类\n",
    "\n",
    "for c, e, f, g, h  in zip(C, E, F, G, H):\n",
    "    if c.value == '电气':\n",
    "        class1['电气'].add(e.value)\n",
    "        # 存储中类：次中类\n",
    "        try:\n",
    "            class2[e.value].add(f.value)\n",
    "        except:\n",
    "            class2[e.value] = set()\n",
    "        # 存储 次中类：小类\n",
    "        try:\n",
    "            class3[f.value].add(g.value)\n",
    "        except:\n",
    "            class3[f.value] = set()\n",
    "        # 存储 小类名称：小类编码\n",
    "        code[g.value] = h.value\n",
    "print(class2.keys())\n",
    "print(class3['连续物位测量'])"
   ]
  },
  {
   "cell_type": "code",
   "execution_count": null,
   "metadata": {},
   "outputs": [],
   "source": [
    "# 提取品牌库信息\n",
    "brands_path = '' # 最终品牌库的路径\n",
    "brands_wb = load_workbook(brands_path)\n"
   ]
  },
  {
   "cell_type": "markdown",
   "metadata": {},
   "source": [
    "## 提取小类库文件中的物料信息"
   ]
  },
  {
   "cell_type": "code",
   "execution_count": null,
   "metadata": {},
   "outputs": [],
   "source": []
  },
  {
   "cell_type": "markdown",
   "metadata": {},
   "source": [
    "## 生成PLM模板文件"
   ]
  },
  {
   "cell_type": "code",
   "execution_count": null,
   "metadata": {},
   "outputs": [],
   "source": []
  },
  {
   "cell_type": "markdown",
   "metadata": {},
   "source": [
    "## pipline"
   ]
  }
 ],
 "metadata": {
  "kernelspec": {
   "display_name": "Python 3",
   "language": "python",
   "name": "python3"
  },
  "language_info": {
   "codemirror_mode": {
    "name": "ipython",
    "version": 3
   },
   "file_extension": ".py",
   "mimetype": "text/x-python",
   "name": "python",
   "nbconvert_exporter": "python",
   "pygments_lexer": "ipython3",
   "version": "3.6.8"
  }
 },
 "nbformat": 4,
 "nbformat_minor": 2
}

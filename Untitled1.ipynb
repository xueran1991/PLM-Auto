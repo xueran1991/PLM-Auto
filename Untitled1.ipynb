{
 "cells": [
  {
   "cell_type": "markdown",
   "metadata": {},
   "source": [
    "## 1. 提取物料分类信息、小类名称-编码字典"
   ]
  },
  {
   "cell_type": "code",
   "execution_count": 1,
   "metadata": {},
   "outputs": [],
   "source": [
    "# 创建.xlsx文档\n",
    "from openpyxl import Workbook, load_workbook\n",
    "import os\n",
    "import glob\n",
    "import re"
   ]
  },
  {
   "cell_type": "code",
   "execution_count": 2,
   "metadata": {},
   "outputs": [
    {
     "name": "stdout",
     "output_type": "stream",
     "text": [
      "dict_keys(['电气类', '工控系统', '电气安装材料', '传感器', '自控阀门'])\n",
      "{'流量测量', '连续物位测量', '传感器安装附件', '温/湿度测量', '粉尘检测', '火花检测', '振动测量', '位置检测', '可燃/有毒检测', '密度检测', '其它类型的传感器', '物位开关', '压力测量', '称重装置', '分析仪表'}\n",
      "{'连杆浮球液位传感器', '双法兰液位变送器', '其它形式连续物位测量', '角度变送器', '导播雷达物位传感器', '静压式液位变送器', '磁翻板液位计', '雷达物位传感器', '超声波物位传感器', '投入式压力变送器'}\n"
     ]
    }
   ],
   "source": [
    "## 提取分类类别\n",
    "Y201_ruls_path = 'base_template/Y201 物料分类及编码规则 R21.xlsm'\n",
    "Y201_ruls_wb = load_workbook(Y201_ruls_path)\n",
    "Y201_ruls_ws = Y201_ruls_wb['物料分类表 R21']\n",
    "\n",
    "# C: 大类名称 电气……\n",
    "# E：中类名称 传感器……\n",
    "# F: 次中类名称 连续物位……\n",
    "# G：小类名称 雷达……\n",
    "# H：小类代号 A300……\n",
    "C, D, E, F, G, H = Y201_ruls_ws['C:H']\n",
    "primary_class = {'电气':set()}  #大类：中类\n",
    "medium_class = {}             #中类：次中类\n",
    "detailed_class = {}            #次中类：小类\n",
    "class_code = {}\n",
    "\n",
    "for c, e, f, g, h  in zip(C, E, F, G, H):\n",
    "    if c.value == '电气':\n",
    "        primary_class['电气'].add(e.value)\n",
    "        # 存储中类：次中类\n",
    "        try:\n",
    "            medium_class[e.value].add(f.value)\n",
    "        except:\n",
    "            medium_class[e.value] = set()\n",
    "            medium_class[e.value].add(f.value)\n",
    "        # 存储 次中类：小类\n",
    "        try:\n",
    "            detailed_class[f.value].add(g.value)\n",
    "        except:\n",
    "            detailed_class[f.value] = set()\n",
    "            detailed_class[f.value].add(g.value)\n",
    "        # 存储 小类名称：小类编码\n",
    "        class_code[g.value] = h.value\n",
    "        \n",
    "print(medium_class.keys())\n",
    "print(medium_class['传感器'])\n",
    "print(detailed_class['连续物位测量'])"
   ]
  },
  {
   "cell_type": "code",
   "execution_count": 3,
   "metadata": {},
   "outputs": [
    {
     "name": "stdout",
     "output_type": "stream",
     "text": [
      "品牌库异常： 横河电机 1193 出现重复项\n"
     ]
    }
   ],
   "source": [
    "# 提取品牌库信息\n",
    "brands_path = 'base_template/BrandsList.txt' # 最终品牌库的路径\n",
    "brands_file = open(brands_path, 'r')\n",
    "brs = brands_file.readlines()\n",
    "brands = {}\n",
    "\n",
    "for br in brs:\n",
    "    ls = re.split(\"\\s\", br)\n",
    "    if ls[0] not in brands.keys() \\\n",
    "    and ls[1] not in brands.values():\n",
    "        brands[ls[0]] = ls[1]\n",
    "    else:\n",
    "        print('品牌库异常：', ls[0], ls[1], '出现重复项')\n",
    "        "
   ]
  },
  {
   "cell_type": "markdown",
   "metadata": {},
   "source": [
    "## 创建物料文件夹"
   ]
  },
  {
   "cell_type": "code",
   "execution_count": 8,
   "metadata": {},
   "outputs": [],
   "source": [
    "class_job = '传感器'\n",
    "for m_class in medium_class[class_job]:\n",
    "    for d_class in detailed_class[m_class]:\n",
    "        m_class = m_class.replace(\"/\", '')\n",
    "        d_class = d_class.replace(\"/\", '')\n",
    "        path = class_job + '/' + m_class + '/' + d_class\n",
    "        \n",
    "        if not os.path.exists(path):\n",
    "            os.makedirs(path)\n",
    "            print('已创建路径：', path)\n"
   ]
  },
  {
   "cell_type": "markdown",
   "metadata": {},
   "source": [
    "## 提取小类库文件中的物料信息"
   ]
  },
  {
   "cell_type": "code",
   "execution_count": null,
   "metadata": {},
   "outputs": [],
   "source": []
  },
  {
   "cell_type": "code",
   "execution_count": null,
   "metadata": {},
   "outputs": [],
   "source": []
  },
  {
   "cell_type": "code",
   "execution_count": null,
   "metadata": {},
   "outputs": [],
   "source": []
  },
  {
   "cell_type": "markdown",
   "metadata": {},
   "source": [
    "## 生成PLM模板文件"
   ]
  },
  {
   "cell_type": "code",
   "execution_count": null,
   "metadata": {},
   "outputs": [],
   "source": []
  },
  {
   "cell_type": "markdown",
   "metadata": {},
   "source": [
    "## pipline"
   ]
  }
 ],
 "metadata": {
  "kernelspec": {
   "display_name": "Python 3",
   "language": "python",
   "name": "python3"
  },
  "language_info": {
   "codemirror_mode": {
    "name": "ipython",
    "version": 3
   },
   "file_extension": ".py",
   "mimetype": "text/x-python",
   "name": "python",
   "nbconvert_exporter": "python",
   "pygments_lexer": "ipython3",
   "version": "3.6.8"
  }
 },
 "nbformat": 4,
 "nbformat_minor": 2
}

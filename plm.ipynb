{
 "cells": [
  {
   "cell_type": "markdown",
   "metadata": {},
   "source": [
    "## 1. 提取物料分类信息、小类名称-编码字典"
   ]
  },
  {
   "cell_type": "code",
   "execution_count": 1,
   "metadata": {},
   "outputs": [],
   "source": [
    "# 创建.xlsx文档\n",
    "from openpyxl import Workbook, load_workbook\n",
    "import os\n",
    "import glob\n",
    "import re\n",
    "import numpy as np\n",
    "import pandas as pd\n",
    "\n",
    "from openpyxl.utils.dataframe import dataframe_to_rows"
   ]
  },
  {
   "cell_type": "code",
   "execution_count": 2,
   "metadata": {},
   "outputs": [
    {
     "name": "stdout",
     "output_type": "stream",
     "text": [
      "dict_keys(['电气类', '工控系统', '电气安装材料', '传感器', '自控阀门'])\n",
      "{'流量测量', '连续物位测量', '传感器安装附件', '火花检测', '分析仪表', '粉尘检测', '物位开关', '振动测量', '密度检测', '称重装置', '可燃/有毒检测', '压力测量', '温/湿度测量', '其它类型的传感器', '位置检测'}\n",
      "{'双法兰液位变送器', '连杆浮球液位传感器', '其它形式连续物位测量', '导播雷达物位传感器', '雷达物位传感器', '磁翻板液位计', '角度变送器', '超声波物位传感器', '投入式压力变送器', '静压式液位变送器'}\n"
     ]
    }
   ],
   "source": [
    "## 提取分类类别\n",
    "Y201_ruls_path = 'base_template/Y201 物料分类及编码规则 R21.xlsm'\n",
    "Y201_ruls_wb = load_workbook(Y201_ruls_path)\n",
    "Y201_ruls_ws = Y201_ruls_wb['物料分类表 R21']\n",
    "\n",
    "# C: 大类名称 电气……\n",
    "# E：中类名称 传感器……\n",
    "# F: 次中类名称 连续物位……\n",
    "# G：小类名称 雷达……\n",
    "# H：小类代号 A300……\n",
    "C, D, E, F, G, H = Y201_ruls_ws['C:H']\n",
    "primary_class = {'电气':set()}  #大类：中类\n",
    "medium_class = {}             #中类：次中类\n",
    "detailed_class = {}            #次中类：小类\n",
    "class_code = {}\n",
    "\n",
    "for c, e, f, g, h  in zip(C, E, F, G, H):\n",
    "    if c.value == '电气':\n",
    "        primary_class['电气'].add(e.value)\n",
    "        # 存储中类：次中类\n",
    "        try:\n",
    "            medium_class[e.value].add(f.value)\n",
    "        except:\n",
    "            medium_class[e.value] = set()\n",
    "            medium_class[e.value].add(f.value)\n",
    "        # 存储 次中类：小类\n",
    "        try:\n",
    "            detailed_class[f.value].add(g.value)\n",
    "        except:\n",
    "            detailed_class[f.value] = set()\n",
    "            detailed_class[f.value].add(g.value)\n",
    "        # 存储 小类名称：小类编码\n",
    "        class_code[g.value] = h.value\n",
    "        \n",
    "print(medium_class.keys())\n",
    "print(medium_class['传感器'])\n",
    "print(detailed_class['连续物位测量'])"
   ]
  },
  {
   "cell_type": "code",
   "execution_count": 3,
   "metadata": {},
   "outputs": [],
   "source": [
    "# 提取品牌库信息\n",
    "brands_path = 'base_template/BrandsList.txt' # 最终品牌库的路径\n",
    "brands_file = open(brands_path, 'r')\n",
    "brs = brands_file.readlines()\n",
    "brands = {}\n",
    "\n",
    "for br in brs:\n",
    "    ls = re.split(\"\\s\", br)\n",
    "    if ls[0] not in brands.keys() \\\n",
    "    and ls[1] not in brands.values():\n",
    "        brands[ls[0]] = ls[1]\n",
    "    else:\n",
    "        print('品牌库异常：', ls[0], ls[1], '出现重复项')\n",
    "        "
   ]
  },
  {
   "cell_type": "markdown",
   "metadata": {},
   "source": [
    "## 创建物料文件夹"
   ]
  },
  {
   "cell_type": "code",
   "execution_count": 4,
   "metadata": {},
   "outputs": [],
   "source": [
    "class_job = '传感器'\n",
    "for m_class in medium_class[class_job]:\n",
    "    for d_class in detailed_class[m_class]:\n",
    "        m_class = m_class.replace(\"/\", '')\n",
    "        d_class = d_class.replace(\"/\", '')\n",
    "        path = class_job + '/' + m_class + '/' + d_class\n",
    "        \n",
    "        if not os.path.exists(path):\n",
    "            os.makedirs(path)\n",
    "            print('已创建路径：', path)\n"
   ]
  },
  {
   "cell_type": "markdown",
   "metadata": {},
   "source": [
    "## 提取小类库文件中的物料信息"
   ]
  },
  {
   "cell_type": "code",
   "execution_count": 5,
   "metadata": {},
   "outputs": [],
   "source": [
    "def get_data(file_path):\n",
    "    if file_path[-5:] == '.xlsx':\n",
    "        wb = load_workbook(file_path, 'r')\n",
    "        ws = wb.active\n",
    "        data =  np.array(list(ws.values))\n",
    "        wb.close\n",
    "        return  data\n",
    "    elif file_path[-4:] == '.txt':\n",
    "        txt = open(file_path, 'r')\n",
    "        txt = txt.readlines()\n",
    "        data = []\n",
    "        for row in txt:    \n",
    "            d = row.replace(\"\\n\",'')\n",
    "            data.append(re.split(\"\\t\", d))\n",
    "        return np.array(data)\n",
    "        \n",
    "    else:\n",
    "        raise ValueError"
   ]
  },
  {
   "cell_type": "code",
   "execution_count": 6,
   "metadata": {},
   "outputs": [],
   "source": [
    "def get_translation(trans_path):\n",
    "    ## 提取翻译库数据\n",
    "    trans_file = open(trans_path, 'r')\n",
    "    trans = trans_file.readlines()\n",
    "    translation = {}\n",
    "    for tran in trans:\n",
    "        tr = re.split(\"\\s\", tran)\n",
    "        if tr[0] != '' :\n",
    "            translation[tr[0]] = tr[1]\n",
    "\n",
    "    trans_file.close()\n",
    "    return translation"
   ]
  },
  {
   "cell_type": "code",
   "execution_count": 7,
   "metadata": {},
   "outputs": [],
   "source": [
    "def refresh_translation(attribs, trans_path):\n",
    "    ### 更新翻译库，将需要导入的属性加入翻译库\n",
    "    current_trans = get_translation(trans_path)\n",
    "    trans_file = open(trans_path, 'a+')\n",
    "    trans_file.write('\\n')\n",
    "    for attrib in attribs:\n",
    "        if attrib not in current_trans:\n",
    "            trans_file.write(attrib+'\\n')\n",
    "    trans_file.close()\n",
    "    new_trans = get_translation(trans_path)\n",
    "    for key in new_trans.keys():\n",
    "        if new_trans[key] == '':\n",
    "            print(key, ':翻译缺失')\n",
    "            \n",
    "    return new_trans"
   ]
  },
  {
   "cell_type": "code",
   "execution_count": 8,
   "metadata": {},
   "outputs": [
    {
     "data": {
      "text/plain": [
       "(18, 19)"
      ]
     },
     "execution_count": 8,
     "metadata": {},
     "output_type": "execute_result"
    }
   ],
   "source": [
    "# wb_path = '雷达物位传感器.xlsx'\n",
    "# data = get_data(wb_path)\n",
    "\n",
    "txt_path = 'txt_read_test.txt'\n",
    "data = get_data(txt_path)\n",
    "data.shape"
   ]
  },
  {
   "cell_type": "markdown",
   "metadata": {},
   "source": [
    "## 生成PLM模板文件"
   ]
  },
  {
   "cell_type": "code",
   "execution_count": 9,
   "metadata": {},
   "outputs": [],
   "source": [
    "### 生成属性\n",
    "\n",
    "job = \"雷达物位传感器\"\n",
    "\n",
    "## Common data\n",
    "dataframe = pd.DataFrame(data=data[2:, 1:], columns=data[1, 1:], index=data[2:, 0])\n",
    "attribs = dataframe.columns[2:]\n",
    "attribs_necessity = data[0][3:]\n",
    "trans_path = 'base_template/翻译库.txt'\n",
    "translation = refresh_translation(attribs, trans_path)\n",
    "job_code = class_code[job]"
   ]
  },
  {
   "cell_type": "code",
   "execution_count": 10,
   "metadata": {},
   "outputs": [],
   "source": [
    "## 生成 02-必填属性\n",
    "t02_header = '#===============电气与自动化================\\n\\n'\n",
    "t02_header += ('#--' + job + '--' + '\\n')\n",
    "t02_content = job_code + '=mySupplierModelSpec'\n",
    "\n",
    "# 遍历所有属性，添加必要属性\n",
    "for attrib, attrib_necessity in zip(attribs, attribs_necessity):\n",
    "    # txt读出的数值为str型，excel读出的为int型\n",
    "    if attrib_necessity in [1, '1']:\n",
    "        t02_content += ',my' + job_code + '_' + translation[attrib]\n",
    "\n",
    "# 完成02模板\n",
    "t02 = t02_header + t02_content\n",
    "\n",
    "write_path = '传感器/连续物位测量/雷达物位传感器/'\n",
    "\n",
    "t02_file = open(write_path+'02-必填属性-'+job+'.txt', 'w')\n",
    "t02_file.write(t02)\n",
    "t02_file.close()"
   ]
  },
  {
   "cell_type": "code",
   "execution_count": 11,
   "metadata": {},
   "outputs": [],
   "source": [
    "## 生成03-属性组合\n",
    "t03_header = \"#====各分类组合属性集===========\\n \\\n",
    "                #====分类码.组合属性代码+组合顺序=子属性名\\n \\\n",
    "                #====物料简称:cassShortDescription\\n \\\n",
    "                #====描述:myDesc\\n\\n\"\n",
    "t03_header += ('#--' + job + '--' + '\\n\\n')\n",
    "\n",
    "t03_content1 = '#l表示：PLM物料名称:ERP物料名称\\n' + job_code \\\n",
    "                + '.l0={cassShortDescription}\\n\\n'\n",
    "\n",
    "t03_content2 = '#d：ERP物料名称:物料简称\\n' + job_code \\\n",
    "                + '.d0={cassShortDescription}\\n\\n'\n",
    "\n",
    "t03_content3 = \"#s：ERP型号规格:供应商型号规格\\n\" + job_code \\\n",
    "                + \".s0={mySupplierModelSpec}\\n\\n\"\n",
    "t03 = t03_header + t03_content1 + t03_content2 + t03_content3\n",
    "\n",
    "t03_file = open(write_path+'03-组合属性-'+job+'.txt', 'w')\n",
    "t03_file.write(t03)\n",
    "t03_file.close()\n"
   ]
  },
  {
   "cell_type": "code",
   "execution_count": 12,
   "metadata": {},
   "outputs": [],
   "source": [
    "## 创建Excel文件\n",
    "wb = Workbook()\n",
    "ws_df = wb.create_sheet(\"定义属性\")\n",
    "ws_rg = wb.create_sheet(\"Range值\")"
   ]
  },
  {
   "cell_type": "code",
   "execution_count": 13,
   "metadata": {},
   "outputs": [],
   "source": [
    "## 生成定义属性工作表\n",
    "\n",
    "ws_df_header = ['模块','中文名称','分类码','英文名字','定义属性','属性类型','翻译脚本','创建属性脚本']\n",
    "\n",
    "attr_num = len(attribs)\n",
    "ws_df_cA = ['物料属性'] * attr_num\n",
    "ws_df_cB = attribs\n",
    "ws_df_cC = [job_code] * attr_num\n",
    "ws_df_cD = [translation[x] for x in ws_df_cB]\n",
    "ws_df_cE = ['=\"my\"&C{}&\"_\"&D{}'.format(i+2,i+2) for i in range(attr_num)]\n",
    "ws_df_cF = ['string'] * attr_num\n",
    "ws_df_cG = ['=CONCATENATE(\"emxFramework.Attribute.\",E{},\" = \",B{},)'.format(i+2,i+2) for i in range(attr_num)]\n",
    "cH_string = \"\"\"=CONCATENATE(\"#\"&B{}&\"\n",
    "add attribute \"&E{}&\"\n",
    "  type \"&F{}&\"\n",
    "  description '' default ''\n",
    "  property application value MyandeCentral\n",
    "  property installer value cass\n",
    "  property 'original name' value \"&E{}&\"\n",
    "  property 'installed date' value 05-01-2018\n",
    "  property version value 1.0;\n",
    "mod prog eServiceSchemaVariableMapping.tcl add property attribute_\"&E{}&\" to att \"&E{}&\";\")\"\"\"\n",
    "ws_df_cH = [cH_string.format(i,i,i,i,i,i) for i in range(2, attr_num+2)]\n",
    "\n",
    "df = pd.DataFrame(columns=ws_df_header)\n",
    "df['模块'] = ws_df_cA\n",
    "df['中文名称'] = ws_df_cB\n",
    "df['分类码'] = ws_df_cC\n",
    "df['英文名字'] = ws_df_cD\n",
    "df['定义属性'] = ws_df_cE\n",
    "df['属性类型'] = ws_df_cF\n",
    "df['翻译脚本'] = ws_df_cG\n",
    "df['创建属性脚本'] = ws_df_cH\n",
    "\n",
    "for r in dataframe_to_rows(df, index=False, header=True):\n",
    "    ws_df.append(r)\n",
    "wb.save(\"t01.xlsx\")"
   ]
  },
  {
   "cell_type": "code",
   "execution_count": 14,
   "metadata": {},
   "outputs": [],
   "source": [
    "## 生成Range值工作表\n",
    "ws_rg_header = ['固定属性','分类码','英文名字','定义属性','-','值的前台显示','值(不能有中文)','Range值脚本','Range值翻译']\n",
    "ws_rg_cC = []\n",
    "ws_rg_cF = []\n",
    "range_value = []\n",
    "\n",
    "for attrib, attrib_necessity in zip(attribs, attribs_necessity):\n",
    "    ### 遍历dataframe，生成C，F列 和 属性的值\n",
    "    \n",
    "    # txt读出的数值为str型，excel读出的为int型\n",
    "    if attrib_necessity in [1, '1']:\n",
    "        for value in dataframe[attrib].unique():\n",
    "            if value != '' and value != None:\n",
    "                ws_rg_cC.append(translation[attrib])\n",
    "                ws_rg_cF.append(value)\n",
    "        if attrib != '品牌':\n",
    "            for i in range(1, dataframe[attrib].nunique()+1):\n",
    "                range_value.append(translation[attrib].lower() + str(i))\n",
    "            \n",
    "    range_value.append('')            \n",
    "    ws_rg_cC.append(translation[attrib])\n",
    "    ws_rg_cF.append('')\n",
    "\n",
    "# 生成其他列，写入表格公式或值\n",
    "attr_num = len(ws_rg_cF)\n",
    "ws_rg_cA = ['mod attr'] * attr_num\n",
    "ws_rg_cB = [job_code] * attr_num\n",
    "ws_rg_cD = ['=\"my\"&B{}&\"_\"&C{}'.format(i,i) for i in range(2,attr_num+2)]\n",
    "ws_rg_cE = ['add range'] * attr_num\n",
    "\n",
    "brands_num = dataframe['品牌'].nunique()\n",
    "ws_rg_cG = [brands[br] for br in ws_rg_cF[:brands_num]]\n",
    "ws_rg_cG += range_value\n",
    "\n",
    "cH_string = \"\"\"=CONCATENATE(A{},\" \",D{},\" \",E{},\" \",\"=\",\" \",\"'\",G{},\"'\",\";\")\"\"\"\n",
    "ws_rg_cH = [cH_string.format(i,i,i,i) for i in range(2, attr_num+2)]\n",
    "cI_string = '=CONCATENATE(\"emxFramework.Range.\",D{},,\".\",G{},\" =\",\" \",F{})'\n",
    "ws_rg_cI = [cI_string.format(i,i,i) for i in range(2, attr_num+2)]\n",
    "\n",
    "# 将数据传入df\n",
    "df = pd.DataFrame(columns=ws_rg_header)\n",
    "df['固定属性'] = ws_rg_cA\n",
    "df['分类码'] = ws_rg_cB\n",
    "df['英文名字'] = ws_rg_cC\n",
    "df['定义属性'] = ws_rg_cD\n",
    "df['-'] = ws_rg_cE\n",
    "df['值的前台显示'] = ws_rg_cF\n",
    "df['值(不能有中文)'] = ws_rg_cG\n",
    "df['Range值脚本'] = ws_rg_cH\n",
    "df['Range值翻译'] = ws_rg_cI\n",
    "\n",
    "# 将df写入Excel\n",
    "for r in dataframe_to_rows(df, index=False, header=True):\n",
    "    ws_rg.append(r)\n",
    "wb.save(\"t01.xlsx\")\n",
    "wb.close()"
   ]
  },
  {
   "cell_type": "code",
   "execution_count": 77,
   "metadata": {},
   "outputs": [],
   "source": [
    "## 生成导入模板\n",
    "parts_num = int(dataframe.index[-1])\n",
    "export_header0 = ['', 'name', 'PartFamily:name|attribute[Title]','cassLongDescription', \\\n",
    "                 'description','cassSpecModel','cassShortDescription','myDesc','mySupplierModelSpec']\n",
    "\n",
    "export_header1 = ['序号','编码','分类名称','PLM物料名称','ERP物料名称', \\\n",
    "                  'ERP型号规格','物料简称','描述','供应商型号规格']\n",
    "# 英文表头和中文表头\n",
    "export_header0 += [translation[at] for at in attribs]\n",
    "export_header1 += list(attribs)\n",
    "\n",
    "df_export = pd.DataFrame(columns=export_header1)\n",
    "df_export['序号'] = range(1, parts_num+1)\n",
    "df_export['分类名称'] = [job+'|'+job_code] * parts_num\n",
    "df_export['ERP物料名称'] = df_export['PLM物料名称'] = df_export['物料简称'] = [job]* parts_num\n",
    "df_export['供应商型号规格'] = df_export['ERP型号规格'] = list(dataframe['供应商型号规格'])[:parts_num]\n",
    "\n",
    "for attrib in attribs:\n",
    "    df_export[attrib] = list(dataframe[attrib])[:parts_num]\n",
    "\n",
    "encodings = [job_code + '-' + str(10000+i) + '-{}' for i in range(1, parts_num+1)]\n",
    "df_export['编码'] = [encoding.format(brands[x]) for encoding, x in zip(encodings, df_export['品牌'])]    \n",
    "    \n",
    "wb = Workbook()\n",
    "ws = wb.active\n",
    "ws.append(export_header0)\n",
    "for r in dataframe_to_rows(df_export, index=False, header=True):\n",
    "    ws.append(r)\n",
    "wb.save(\"t04.xlsx\")\n",
    "wb.close()"
   ]
  },
  {
   "cell_type": "code",
   "execution_count": null,
   "metadata": {},
   "outputs": [],
   "source": []
  },
  {
   "cell_type": "markdown",
   "metadata": {},
   "source": [
    "## pipline"
   ]
  }
 ],
 "metadata": {
  "kernelspec": {
   "display_name": "Python 3",
   "language": "python",
   "name": "python3"
  },
  "language_info": {
   "codemirror_mode": {
    "name": "ipython",
    "version": 3
   },
   "file_extension": ".py",
   "mimetype": "text/x-python",
   "name": "python",
   "nbconvert_exporter": "python",
   "pygments_lexer": "ipython3",
   "version": "3.6.8"
  }
 },
 "nbformat": 4,
 "nbformat_minor": 2
}
